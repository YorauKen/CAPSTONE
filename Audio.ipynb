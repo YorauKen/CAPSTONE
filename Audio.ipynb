{
 "cells": [
  {
   "cell_type": "code",
   "execution_count": 3,
   "id": "dcfa7ece",
   "metadata": {},
   "outputs": [],
   "source": [
    "# pip install pyaudio\n",
    "# pip install SpeechRecognition"
   ]
  },
  {
   "cell_type": "code",
   "execution_count": 4,
   "id": "efb7c3bd",
   "metadata": {},
   "outputs": [
    {
     "name": "stdout",
     "output_type": "stream",
     "text": [
      "Please speak now\n",
      "Analysing...\n",
      "Sorry, I couldn't understand the audio.\n"
     ]
    }
   ],
   "source": [
    "import speech_recognition as sr\n",
    "\n",
    "\n",
    "recognizer = sr.Recognizer()\n",
    "\n",
    "with sr.Microphone(device_index=0) as source:\n",
    "    print(\"Please speak now\")\n",
    "    try:\n",
    "        listening = recognizer.listen(source)\n",
    "        print(\"Analysing...\")\n",
    "        result = recognizer.recognize_google(listening, language=\"kn-IN\")\n",
    "        print(\"Did you say:\", result)\n",
    "        ent = result\n",
    "    except sr.UnknownValueError:\n",
    "        print(\"Sorry, I couldn't understand the audio.\")\n",
    "    except sr.RequestError as e:\n",
    "        print(f\"Could not request results from Google Speech Recognition service; {e}\")\n",
    "    except Exception as e:\n",
    "        print(f\"An unexpected error occurred: {e}\")"
   ]
  },
  {
   "cell_type": "code",
   "execution_count": null,
   "id": "6604f5df",
   "metadata": {},
   "outputs": [],
   "source": []
  }
 ],
 "metadata": {
  "kernelspec": {
   "display_name": "Python 3 (ipykernel)",
   "language": "python",
   "name": "python3"
  },
  "language_info": {
   "codemirror_mode": {
    "name": "ipython",
    "version": 3
   },
   "file_extension": ".py",
   "mimetype": "text/x-python",
   "name": "python",
   "nbconvert_exporter": "python",
   "pygments_lexer": "ipython3",
   "version": "3.9.10"
  }
 },
 "nbformat": 4,
 "nbformat_minor": 5
}
